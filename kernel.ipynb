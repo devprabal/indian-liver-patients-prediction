{
  "cells": [
    {
      "metadata": {
        "_uuid": "8f2839f25d086af736a60e9eeb907d3b93b6e0e5",
        "_cell_guid": "b1076dfc-b9ad-4769-8c92-a6c4dae69d19",
        "trusted": true
      },
      "cell_type": "code",
      "source": "\"\"\"\nCreated on Tue Jul 10 13:46:33 2018\nhttps://www.kaggle.com/uciml/indian-liver-patient-records\n@author: devp\n\"\"\"\n# This Python 3 environment comes with many helpful analytics libraries installed\n# It is defined by the kaggle/python docker image: https://github.com/kaggle/docker-python\n# For example, here's several helpful packages to load in \n\nimport numpy as np # linear algebra\nimport pandas as pd # data processing, CSV file I/O (e.g. pd.read_csv)\n\n# Input data files are available in the \"../input/\" directory.\n# For example, running this (by clicking run or pressing Shift+Enter) will list the files in the input directory\n\nimport os\nprint(os.listdir(\"../input\"))\n\n# Any results you write to the current directory are saved as output.",
      "execution_count": 83,
      "outputs": [
        {
          "output_type": "stream",
          "text": "['indian_liver_patient.csv']\n",
          "name": "stdout"
        }
      ]
    },
    {
      "metadata": {
        "trusted": true,
        "collapsed": true,
        "_uuid": "2ea45ba94fac40473f18e324f7bff6e2b6e2e0eb"
      },
      "cell_type": "code",
      "source": "filepath = '../input/indian_liver_patient.csv'",
      "execution_count": 84,
      "outputs": []
    },
    {
      "metadata": {
        "_cell_guid": "79c7e3d0-c299-4dcb-8224-4455121ee9b0",
        "collapsed": true,
        "_uuid": "d629ff2d2480ee46fbb7e2d37f6b5fab8052498a",
        "trusted": true
      },
      "cell_type": "code",
      "source": "data = pd.read_csv(filepath)",
      "execution_count": 85,
      "outputs": []
    },
    {
      "metadata": {
        "trusted": true,
        "_uuid": "7e25899bcc43d54b5f2da14b6dc87a5b25c35563"
      },
      "cell_type": "code",
      "source": "data.head()",
      "execution_count": 86,
      "outputs": [
        {
          "output_type": "execute_result",
          "execution_count": 86,
          "data": {
            "text/plain": "   Age  Gender   ...     Albumin_and_Globulin_Ratio  Dataset\n0   65  Female   ...                           0.90        1\n1   62    Male   ...                           0.74        1\n2   62    Male   ...                           0.89        1\n3   58    Male   ...                           1.00        1\n4   72    Male   ...                           0.40        1\n\n[5 rows x 11 columns]",
            "text/html": "<div>\n<style scoped>\n    .dataframe tbody tr th:only-of-type {\n        vertical-align: middle;\n    }\n\n    .dataframe tbody tr th {\n        vertical-align: top;\n    }\n\n    .dataframe thead th {\n        text-align: right;\n    }\n</style>\n<table border=\"1\" class=\"dataframe\">\n  <thead>\n    <tr style=\"text-align: right;\">\n      <th></th>\n      <th>Age</th>\n      <th>Gender</th>\n      <th>Total_Bilirubin</th>\n      <th>Direct_Bilirubin</th>\n      <th>Alkaline_Phosphotase</th>\n      <th>Alamine_Aminotransferase</th>\n      <th>Aspartate_Aminotransferase</th>\n      <th>Total_Protiens</th>\n      <th>Albumin</th>\n      <th>Albumin_and_Globulin_Ratio</th>\n      <th>Dataset</th>\n    </tr>\n  </thead>\n  <tbody>\n    <tr>\n      <th>0</th>\n      <td>65</td>\n      <td>Female</td>\n      <td>0.7</td>\n      <td>0.1</td>\n      <td>187</td>\n      <td>16</td>\n      <td>18</td>\n      <td>6.8</td>\n      <td>3.3</td>\n      <td>0.90</td>\n      <td>1</td>\n    </tr>\n    <tr>\n      <th>1</th>\n      <td>62</td>\n      <td>Male</td>\n      <td>10.9</td>\n      <td>5.5</td>\n      <td>699</td>\n      <td>64</td>\n      <td>100</td>\n      <td>7.5</td>\n      <td>3.2</td>\n      <td>0.74</td>\n      <td>1</td>\n    </tr>\n    <tr>\n      <th>2</th>\n      <td>62</td>\n      <td>Male</td>\n      <td>7.3</td>\n      <td>4.1</td>\n      <td>490</td>\n      <td>60</td>\n      <td>68</td>\n      <td>7.0</td>\n      <td>3.3</td>\n      <td>0.89</td>\n      <td>1</td>\n    </tr>\n    <tr>\n      <th>3</th>\n      <td>58</td>\n      <td>Male</td>\n      <td>1.0</td>\n      <td>0.4</td>\n      <td>182</td>\n      <td>14</td>\n      <td>20</td>\n      <td>6.8</td>\n      <td>3.4</td>\n      <td>1.00</td>\n      <td>1</td>\n    </tr>\n    <tr>\n      <th>4</th>\n      <td>72</td>\n      <td>Male</td>\n      <td>3.9</td>\n      <td>2.0</td>\n      <td>195</td>\n      <td>27</td>\n      <td>59</td>\n      <td>7.3</td>\n      <td>2.4</td>\n      <td>0.40</td>\n      <td>1</td>\n    </tr>\n  </tbody>\n</table>\n</div>"
          },
          "metadata": {}
        }
      ]
    },
    {
      "metadata": {
        "_uuid": "b88610dd579cc28af8778b70f851613679958004"
      },
      "cell_type": "markdown",
      "source": "**We need to separate the target values from the rest of the table**"
    },
    {
      "metadata": {
        "trusted": true,
        "collapsed": true,
        "_uuid": "066b083884fc83a83c591afbb55760bdcb94895b"
      },
      "cell_type": "code",
      "source": "X = data.iloc[:,:-1].values\nt = data.iloc[:,-1].values",
      "execution_count": 87,
      "outputs": []
    },
    {
      "metadata": {
        "_uuid": "250c0c78bdd524a556484b08c37913cabdc9f500"
      },
      "cell_type": "markdown",
      "source": "Output variable (target)\n\n**1** means **having liver disease**\n\n**2** means **not having liver disease**\n\n***We need to convert all 2's into zeroes for confusion-matrix calulations***"
    },
    {
      "metadata": {
        "trusted": true,
        "collapsed": true,
        "_uuid": "febe3622fe04cd6d423561ab5b2fd6dd89a74a41"
      },
      "cell_type": "code",
      "source": "for u in range(len(t)):\n    if t[u] == 2:\n        t[u] = 0",
      "execution_count": 88,
      "outputs": []
    },
    {
      "metadata": {
        "_uuid": "33cb93aa4fc88b9145eacf8a8d3c0021b4b318ac"
      },
      "cell_type": "markdown",
      "source": "**Gender column has entries as Male and Female.  For a mathematical model to learn, we have to encode these into numbers.**"
    },
    {
      "metadata": {
        "trusted": true,
        "collapsed": true,
        "_uuid": "3952ff4c61856fa0daa44ff3b1590046493e8ebf"
      },
      "cell_type": "code",
      "source": "from sklearn.preprocessing import LabelEncoder\nlbl = LabelEncoder()\nX[:,1] = lbl.fit_transform(X[:,1])",
      "execution_count": 89,
      "outputs": []
    },
    {
      "metadata": {
        "trusted": true,
        "_uuid": "325b17e9642955ae3841f9e806c75a1f510ba089"
      },
      "cell_type": "code",
      "source": "data.isnull().any()",
      "execution_count": 90,
      "outputs": [
        {
          "output_type": "execute_result",
          "execution_count": 90,
          "data": {
            "text/plain": "Age                           False\nGender                        False\nTotal_Bilirubin               False\nDirect_Bilirubin              False\nAlkaline_Phosphotase          False\nAlamine_Aminotransferase      False\nAspartate_Aminotransferase    False\nTotal_Protiens                False\nAlbumin                       False\nAlbumin_and_Globulin_Ratio     True\nDataset                       False\ndtype: bool"
          },
          "metadata": {}
        }
      ]
    },
    {
      "metadata": {
        "_uuid": "95c6c6f50b2651bd925b3d8127d09731f3f9c10b"
      },
      "cell_type": "markdown",
      "source": "**Let's check how many entries have a NaN (Not a Number) or missing values**"
    },
    {
      "metadata": {
        "trusted": true,
        "_uuid": "33002249937bf119b9ca19f5d3e419f30f72bae1"
      },
      "cell_type": "code",
      "source": "data['Albumin_and_Globulin_Ratio'].isnull().sum()",
      "execution_count": 91,
      "outputs": [
        {
          "output_type": "execute_result",
          "execution_count": 91,
          "data": {
            "text/plain": "4"
          },
          "metadata": {}
        }
      ]
    },
    {
      "metadata": {
        "trusted": true,
        "_uuid": "190264db7a524d9045fe816429e65338fe25f257"
      },
      "cell_type": "code",
      "source": "missing_values_rows = data[data.isnull().any(axis=1)]\nprint(missing_values_rows)",
      "execution_count": 92,
      "outputs": [
        {
          "output_type": "stream",
          "text": "     Age  Gender   ...     Albumin_and_Globulin_Ratio  Dataset\n209   45  Female   ...                            NaN        1\n241   51    Male   ...                            NaN        1\n253   35  Female   ...                            NaN        0\n312   27    Male   ...                            NaN        0\n\n[4 rows x 11 columns]\n",
          "name": "stdout"
        }
      ]
    },
    {
      "metadata": {
        "_uuid": "afb1d0c625b5ae77e4bd8829c0bad9978e34adfd"
      },
      "cell_type": "markdown",
      "source": "**Fill the missing rows with values**\n\n*Here we fill it by **median** of the values of that corresponding column*"
    },
    {
      "metadata": {
        "trusted": true,
        "_uuid": "7e19c45b5131e798b5918b94feef507c2b1b9942",
        "_kg_hide-output": true
      },
      "cell_type": "code",
      "source": "from sklearn.preprocessing import Imputer\nimp = Imputer(missing_values='NaN', strategy='median', axis=0)\nX[:,9:10] = imp.fit_transform(X[:,9:10])",
      "execution_count": 93,
      "outputs": [
        {
          "output_type": "stream",
          "text": "/opt/conda/lib/python3.6/site-packages/sklearn/utils/deprecation.py:58: DeprecationWarning: Class Imputer is deprecated; Imputer was deprecated in version 0.20 and will be removed in 0.22. Import impute.SimpleImputer from sklearn instead.\n  warnings.warn(msg, category=DeprecationWarning)\n",
          "name": "stderr"
        }
      ]
    },
    {
      "metadata": {
        "_uuid": "3dfc6ae89c282ff9189b14b86f6797c8fd0e5122"
      },
      "cell_type": "markdown",
      "source": "Let's partition our dataset into **training data** and **testing data**\n\nHere, we keep 25% data as testing data."
    },
    {
      "metadata": {
        "trusted": true,
        "collapsed": true,
        "_uuid": "b2b025a600acda64411ee39b3be449309c5f5600"
      },
      "cell_type": "code",
      "source": "from sklearn.model_selection import train_test_split\nX_train, X_test, t_train, t_test = train_test_split(X,t,random_state=0,test_size=0.25)",
      "execution_count": 94,
      "outputs": []
    },
    {
      "metadata": {
        "_uuid": "7ddd7f1d3c5185c92bac1c14904ffe96813d1732"
      },
      "cell_type": "markdown",
      "source": "**Feature Scaling**\n\n**Standardisation** is applied to all rows of all columns **except the age and the gender column**.\n"
    },
    {
      "metadata": {
        "trusted": true,
        "_uuid": "c64e3aa92e919139b20ee2dbca1f4abd2a30e81f",
        "_kg_hide-output": true
      },
      "cell_type": "code",
      "source": "from sklearn. preprocessing import StandardScaler\nsc = StandardScaler()\nX_train[:,2:] = sc.fit_transform(X_train[:,2:])\nX_test[:,2:] = sc.transform(X_test[:,2:])",
      "execution_count": 95,
      "outputs": [
        {
          "output_type": "stream",
          "text": "/opt/conda/lib/python3.6/site-packages/sklearn/utils/validation.py:585: DataConversionWarning: Data with input dtype object was converted to float64 by StandardScaler.\n  warnings.warn(msg, DataConversionWarning)\n/opt/conda/lib/python3.6/site-packages/sklearn/utils/validation.py:585: DataConversionWarning: Data with input dtype object was converted to float64 by StandardScaler.\n  warnings.warn(msg, DataConversionWarning)\n/opt/conda/lib/python3.6/site-packages/sklearn/utils/validation.py:585: DataConversionWarning: Data with input dtype object was converted to float64 by StandardScaler.\n  warnings.warn(msg, DataConversionWarning)\n",
          "name": "stderr"
        }
      ]
    },
    {
      "metadata": {
        "_uuid": "75459c2cf5aab815e60fa39233e70beeab5a2f74"
      },
      "cell_type": "markdown",
      "source": "Importing Model Evaluation metrics"
    },
    {
      "metadata": {
        "trusted": true,
        "collapsed": true,
        "_uuid": "7e18cb839c6cfaad1738f854d20c80f805ddc883"
      },
      "cell_type": "code",
      "source": "from sklearn.metrics import accuracy_score\nfrom sklearn.metrics import confusion_matrix",
      "execution_count": 96,
      "outputs": []
    },
    {
      "metadata": {
        "_uuid": "781c4432d3adce5f6689355b198f1f7affe138ac"
      },
      "cell_type": "markdown",
      "source": "**Traning and Predictions**"
    },
    {
      "metadata": {
        "_uuid": "915210ae5dab5c125961b5f5ba82c925e1a19ca9"
      },
      "cell_type": "markdown",
      "source": "**Logistic Regression**"
    },
    {
      "metadata": {
        "trusted": true,
        "_uuid": "5cfc0425660fa53b5e84680de25f234d79ef603e"
      },
      "cell_type": "code",
      "source": "from sklearn.linear_model import LogisticRegression\n# creating object of LogisticRegression class\nclassifier_logis = LogisticRegression(random_state=0)\n# fitting the model/ training the model on training data (X_train,t_train)\nclassifier_logis.fit(X_train,t_train)\n# predicting whether the points (people/rows) in the test set (X_test) have the liver disease or not\ny_pred_logis = classifier_logis.predict(X_test)\n# evaluating model performance by confusion-matrix\ncm_logis = confusion_matrix(t_test,y_pred_logis)\nprint(cm_logis)\n# accuracy-result of LogisticRegression model\naccuracy_logis = accuracy_score(t_test,y_pred_logis)\nprint('The accuracy of LogisticRegression is : ', str(accuracy_logis*100) , '%')",
      "execution_count": 97,
      "outputs": [
        {
          "output_type": "stream",
          "text": "[[ 9 37]\n [ 7 93]]\nThe accuracy of LogisticRegression is :  69.86301369863014 %\n",
          "name": "stdout"
        }
      ]
    },
    {
      "metadata": {
        "_uuid": "145e8a08e2ccf83920ae396112c061caca3dd1bf"
      },
      "cell_type": "markdown",
      "source": "**Support Vector Machine - Classification**"
    },
    {
      "metadata": {
        "trusted": true,
        "_uuid": "2f14f72551c7d6f2df7abfb02d97682d68e6d0b9"
      },
      "cell_type": "code",
      "source": "from sklearn.svm import SVC\n# creating object of SVC class\nclassifier_svc = SVC(kernel='rbf', random_state=0, gamma='auto')\n# fitting the model/ training the model on training data (X_train,t_train)\nclassifier_svc.fit(X_train,t_train)\n# predicting whether the points (people/rows) in the test set (X_test) have the liver disease or not\ny_pred_svc = classifier_svc.predict(X_test)\n# evaluating model performance by confusion-matrix\ncm_svc = confusion_matrix(t_test,y_pred_svc)\nprint(cm_svc)\n# accuracy-result of SVC model\naccuracy_svc = accuracy_score(t_test,y_pred_svc)\nprint('The accuracy of SupportVectorClassification is : ', str(accuracy_svc*100) , '%')",
      "execution_count": 98,
      "outputs": [
        {
          "output_type": "stream",
          "text": "[[ 4 42]\n [ 5 95]]\nThe accuracy of SupportVectorClassification is :  67.8082191780822 %\n",
          "name": "stdout"
        }
      ]
    },
    {
      "metadata": {
        "_uuid": "87547001788bba885234fab48d16e25fff26c58f"
      },
      "cell_type": "markdown",
      "source": "**Random Forest Classification**"
    },
    {
      "metadata": {
        "trusted": true,
        "_uuid": "176138725c0ee81a0a97650c9061b6eeac00b9e2"
      },
      "cell_type": "code",
      "source": "from sklearn.ensemble import RandomForestClassifier\n# creating object of RandomForestClassifier class\nclassifier_rfc = RandomForestClassifier(n_estimators=250, criterion='entropy',random_state=0 )\n# fitting the model/ training the model on training data (X_train,t_train)\nclassifier_rfc.fit(X_train,t_train)\n# predicting whether the points (people/rows) in the test set (X_test) have the liver disease or not\ny_pred_rfc = classifier_rfc.predict(X_test)\n# evaluating model performance by confusion-matrix\ncm_rfc = confusion_matrix(t_test,y_pred_rfc)\nprint(cm_rfc)\n# accuracy-result of RandomForestClassifier model\naccuracy_rfc = accuracy_score(t_test,y_pred_rfc)\nprint('The accuracy of RandomForestClassifier is : ', str(accuracy_rfc*100) , '%')",
      "execution_count": 99,
      "outputs": [
        {
          "output_type": "stream",
          "text": "[[14 32]\n [11 89]]\nThe accuracy of RandomForestClassifier is :  70.54794520547945 %\n",
          "name": "stdout"
        }
      ]
    }
  ],
  "metadata": {
    "kernelspec": {
      "display_name": "Python 3",
      "language": "python",
      "name": "python3"
    },
    "language_info": {
      "name": "python",
      "version": "3.6.6",
      "mimetype": "text/x-python",
      "codemirror_mode": {
        "name": "ipython",
        "version": 3
      },
      "pygments_lexer": "ipython3",
      "nbconvert_exporter": "python",
      "file_extension": ".py"
    }
  },
  "nbformat": 4,
  "nbformat_minor": 1
}